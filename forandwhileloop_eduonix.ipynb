{
 "cells": [
  {
   "cell_type": "markdown",
   "id": "e0fcf86d",
   "metadata": {},
   "source": [
    "### Sum of Squares of numbers"
   ]
  },
  {
   "cell_type": "code",
   "execution_count": 1,
   "id": "4e718491",
   "metadata": {},
   "outputs": [
    {
     "data": {
      "text/plain": [
       "40"
      ]
     },
     "execution_count": 1,
     "metadata": {},
     "output_type": "execute_result"
    }
   ],
   "source": [
    "numbers=[1,2,3,1,5]\n",
    "sum_=0\n",
    "\n",
    "for num in numbers:\n",
    "    sum_=sum_+num**2\n",
    "sum_     "
   ]
  },
  {
   "cell_type": "code",
   "execution_count": 2,
   "id": "d2641e2d",
   "metadata": {},
   "outputs": [
    {
     "data": {
      "text/plain": [
       "7.382332347441762"
      ]
     },
     "execution_count": 2,
     "metadata": {},
     "output_type": "execute_result"
    }
   ],
   "source": [
    "numbers=[1,2,3,1,5]\n",
    "sqrt_root=0\n",
    "\n",
    "for num in numbers:\n",
    "    sqrt_root=sqrt_root+num**0.5\n",
    "sqrt_root    \n",
    "      \n"
   ]
  },
  {
   "cell_type": "code",
   "execution_count": 3,
   "id": "0e118d01",
   "metadata": {},
   "outputs": [
    {
     "name": "stdout",
     "output_type": "stream",
     "text": [
      "Apple\n",
      "Banana\n",
      "Cherry\n"
     ]
    }
   ],
   "source": [
    "fruits=[\"Apple\",\"Banana\",\"Cherry\"]\n",
    "for fruit in fruits:\n",
    "        print(fruit)"
   ]
  },
  {
   "cell_type": "code",
   "execution_count": 4,
   "id": "ea155e15",
   "metadata": {},
   "outputs": [
    {
     "name": "stdout",
     "output_type": "stream",
     "text": [
      "K\n",
      "o\n",
      "m\n",
      "a\n",
      "l\n"
     ]
    }
   ],
   "source": [
    "for letter in \"Komal\":\n",
    "    print(letter)"
   ]
  },
  {
   "cell_type": "code",
   "execution_count": 5,
   "id": "1b7509ca",
   "metadata": {},
   "outputs": [
    {
     "name": "stdout",
     "output_type": "stream",
     "text": [
      "0\n",
      "1\n",
      "2\n",
      "3\n",
      "4\n"
     ]
    }
   ],
   "source": [
    "for i in range(5):\n",
    "    print(i)"
   ]
  },
  {
   "cell_type": "code",
   "execution_count": 6,
   "id": "6a48c083",
   "metadata": {},
   "outputs": [
    {
     "name": "stdout",
     "output_type": "stream",
     "text": [
      "4\n",
      "3\n",
      "2\n",
      "1\n",
      "0\n"
     ]
    }
   ],
   "source": [
    "for i in reversed(range(5)):\n",
    "    print(i)"
   ]
  },
  {
   "cell_type": "code",
   "execution_count": 7,
   "id": "8431fe19",
   "metadata": {},
   "outputs": [
    {
     "name": "stdout",
     "output_type": "stream",
     "text": [
      "The cube root of the no is: 5.0\n"
     ]
    }
   ],
   "source": [
    "number=125\n",
    "cube_root=number**(1/3)                              \n",
    "print(\"The cube root of the no is:\",cube_root)"
   ]
  },
  {
   "cell_type": "code",
   "execution_count": 8,
   "id": "327ac3f4",
   "metadata": {},
   "outputs": [
    {
     "name": "stdout",
     "output_type": "stream",
     "text": [
      "[3, 5, 6, 8, 4, 5, 7, 8, 10, 6]\n"
     ]
    }
   ],
   "source": [
    "my_list=[3,5,6,8,4]\n",
    "for num in range(len(my_list)):\n",
    "    my_list.append(my_list[num]+2)\n",
    "print(my_list)    "
   ]
  },
  {
   "cell_type": "code",
   "execution_count": 9,
   "id": "dd8a0c0d",
   "metadata": {},
   "outputs": [
    {
     "name": "stdout",
     "output_type": "stream",
     "text": [
      "hi komal\n",
      "hi komal\n",
      "hi komal\n",
      "hi komal\n",
      "hi komal\n"
     ]
    }
   ],
   "source": [
    "list1=[1,2,0,5,6]\n",
    "while list1:\n",
    "    print(\"hi komal\")\n",
    "    list1.pop()\n",
    "    \n",
    "        "
   ]
  },
  {
   "cell_type": "code",
   "execution_count": 10,
   "id": "416530cd",
   "metadata": {},
   "outputs": [
    {
     "name": "stdout",
     "output_type": "stream",
     "text": [
      "enter a number(0 to quit):2\n",
      "enter a number(0 to quit):3\n",
      "enter a number(0 to quit):-1\n",
      "enter a number(0 to quit):-2\n",
      "enter a number(0 to quit):0\n",
      "toatal is 2\n"
     ]
    }
   ],
   "source": [
    "\n",
    "total=0\n",
    "number=int(input(\"enter a number(0 to quit):\"))\n",
    "while number!=0:\n",
    "    total=total+number\n",
    "    number=int(input(\"enter a number(0 to quit):\"))\n",
    "print(\"toatal is\",total)"
   ]
  },
  {
   "cell_type": "code",
   "execution_count": 11,
   "id": "2897b12b",
   "metadata": {},
   "outputs": [
    {
     "name": "stdout",
     "output_type": "stream",
     "text": [
      "12is not a prime number\n",
      "14is not a prime number\n",
      "6is not a prime number\n",
      "7is a Prime number\n",
      "9is not a prime number\n",
      "19is a Prime number\n",
      "25is not a prime number\n",
      "36is not a prime number\n"
     ]
    }
   ],
   "source": [
    "num=[12,14,6,7,9,19,25,36]\n",
    "def prime_number(number):\n",
    "    condition=0\n",
    "    iteration=2\n",
    "    while iteration<=number/2:\n",
    "        if number%iteration==0:\n",
    "            condition=1\n",
    "            break\n",
    "        iteration=iteration+1\n",
    "    if condition==0:\n",
    "        print(f\"{number}is a Prime number\")\n",
    "    else:\n",
    "        print(f\"{number}is not a prime number\")\n",
    "for i in num:\n",
    "    prime_number(i)"
   ]
  },
  {
   "cell_type": "code",
   "execution_count": 12,
   "id": "4ea6cef9",
   "metadata": {},
   "outputs": [
    {
     "name": "stdout",
     "output_type": "stream",
     "text": [
      "(7, -3)\n"
     ]
    }
   ],
   "source": [
    "num1=9\n",
    "num2=-6\n",
    "while num1>5 and num2<-5:\n",
    "    num1 -=2\n",
    "    num2 +=3\n",
    "    print((num1,num2))"
   ]
  },
  {
   "cell_type": "code",
   "execution_count": 14,
   "id": "5d3ee84b",
   "metadata": {},
   "outputs": [
    {
     "name": "stdout",
     "output_type": "stream",
     "text": [
      "(7, 8)\n",
      "(5, 11)\n"
     ]
    }
   ],
   "source": [
    "num1=9\n",
    "num2=5\n",
    "while num1>5 or num2<-5:\n",
    "    num1 -=2\n",
    "    num2 +=3\n",
    "    print((num1,num2))"
   ]
  },
  {
   "cell_type": "code",
   "execution_count": 16,
   "id": "5bf54c7c",
   "metadata": {},
   "outputs": [
    {
     "name": "stdout",
     "output_type": "stream",
     "text": [
      "P\n",
      "y\n",
      "t\n",
      "h\n",
      "o\n",
      "n\n",
      " \n",
      "P\n"
     ]
    }
   ],
   "source": [
    "for string in \"Python Programming\":\n",
    "     if string==\"r\":\n",
    "        break\n",
    "     print(string)   "
   ]
  },
  {
   "cell_type": "code",
   "execution_count": null,
   "id": "0f859767",
   "metadata": {},
   "outputs": [],
   "source": []
  }
 ],
 "metadata": {
  "kernelspec": {
   "display_name": "Python 3 (ipykernel)",
   "language": "python",
   "name": "python3"
  },
  "language_info": {
   "codemirror_mode": {
    "name": "ipython",
    "version": 3
   },
   "file_extension": ".py",
   "mimetype": "text/x-python",
   "name": "python",
   "nbconvert_exporter": "python",
   "pygments_lexer": "ipython3",
   "version": "3.11.5"
  }
 },
 "nbformat": 4,
 "nbformat_minor": 5
}
